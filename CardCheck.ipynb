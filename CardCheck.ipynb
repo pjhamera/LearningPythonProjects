{
 "cells": [
  {
   "cell_type": "code",
   "execution_count": null,
   "metadata": {},
   "outputs": [],
   "source": [
    "'''The following code checks whether a credit card number is valid or not'''\n",
    "\n",
    "card = input('Please enter a credit card number:> ').strip() #ask for a credit card number & at the same time gets rid of possible white space\n",
    "\n",
    "card_num = list(card) #turn the credit card number into a list\n",
    "\n",
    "check_digit = card_num.pop() #gets rid of the last number from the list and assigns to a new variable\n",
    "\n",
    "card_num.reverse() # reverses the list\n",
    "\n",
    "doubles = [] # two new lists\n",
    "singles = []\n",
    "\n",
    "for index, digit in enumerate(card_num): #iterates thru indexes, digits of the card list\n",
    "    if index % 2 == 0: \n",
    "        double = int(digit) * 2 #doubles the digits with the even index\n",
    "        \n",
    "        if double > 9: \n",
    "            double = double - 9 #substracts 9 from the digits that are higher than 9\n",
    "        \n",
    "        doubles.append(double) #appends the doubled digits to the doubles list\n",
    "\n",
    "    else:    \n",
    "        singles.append(int(digit)) #appends the remaining digits to the singles list\n",
    "        \n",
    "total = int(check_digit) + sum(singles + doubles) # calculates the total\n",
    "# print(total)\n",
    "\n",
    "if total % 10 == 0: # if the total modulo 10 is equal to 0, the number is valid\n",
    "   print(f'The card no. {card} is valid')                            \n",
    "else:\n",
    "   print(f'The card no. {card} is invalid')"
   ]
  }
 ],
 "metadata": {
  "kernelspec": {
   "display_name": "Python 3",
   "language": "python",
   "name": "python3"
  },
  "language_info": {
   "codemirror_mode": {
    "name": "ipython",
    "version": 3
   },
   "file_extension": ".py",
   "mimetype": "text/x-python",
   "name": "python",
   "nbconvert_exporter": "python",
   "pygments_lexer": "ipython3",
   "version": "3.8.5"
  }
 },
 "nbformat": 4,
 "nbformat_minor": 4
}

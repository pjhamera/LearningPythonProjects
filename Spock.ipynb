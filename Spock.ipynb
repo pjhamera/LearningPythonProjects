{
 "cells": [
  {
   "cell_type": "markdown",
   "metadata": {},
   "source": [
    "## Spock's Rock, Paper, Scissors, Lizard, Spock in Python"
   ]
  },
  {
   "cell_type": "code",
   "execution_count": null,
   "metadata": {},
   "outputs": [],
   "source": [
    "\"\"\"\n",
    "Implementing RPSLS for Practice Project\n",
    "\"\"\"\n",
    "\n",
    "def name_to_number(name):\n",
    "    \"\"\"\n",
    "    Take string name as input (rock-Spock-paper-lizard-scissors)\n",
    "    and returns integer (0-1-2-3-4)\n",
    "    \"\"\"\n",
    "    if name == \"rock\":\n",
    "        return 0\n",
    "    elif name == \"Spock\":\n",
    "        return 1\n",
    "    elif name == \"paper\":\n",
    "        return 2\n",
    "    elif name == \"lizard\":\n",
    "        return 3\n",
    "    elif name == \"scissors\":\n",
    "        return 4\n",
    "    else: \n",
    "        print('Incorrect name')\n",
    "        \n",
    "\n",
    "    \n",
    "# print(name_to_number(\"rock\"))\t\t# output - 0\n",
    "# print(name_to_number(\"Spock\"))\t\t# output - 1\n",
    "# print(name_to_number(\"paper\"))\t\t# output - 2\n",
    "# print(name_to_number(\"lizard\"))\t\t# output - 3\n",
    "# print(name_to_number(\"scissors\"))\t# output - 4\n",
    "# print(name_to_number(\"spade\"))\t    # output - Incorrect name"
   ]
  },
  {
   "cell_type": "code",
   "execution_count": null,
   "metadata": {},
   "outputs": [],
   "source": [
    "def number_to_name(number):\n",
    "    '''Take number as input (integer: 0-4) and returns name (string)'''\n",
    "    if number == 0:\n",
    "        return \"rock\"\n",
    "    elif number == 1:\n",
    "        return \"Spock\"\n",
    "    elif number == 2:\n",
    "        return \"paper\"\n",
    "    elif number == 3:\n",
    "        return \"lizard\"\n",
    "    elif number == 4:\n",
    "        return \"scissors\"\n",
    "    else: \n",
    "        print('Incorrect number')\n",
    "# print(number_to_name(0))\n",
    "# print(number_to_name(1))\n",
    "# print(number_to_name(2))\n",
    "# print(number_to_name(3))\n",
    "# print(number_to_name(4))"
   ]
  },
  {
   "cell_type": "code",
   "execution_count": null,
   "metadata": {},
   "outputs": [],
   "source": [
    "import random \n",
    "def rpsls(name):\n",
    "    print(\"================================================\")\n",
    "    print(\"Player chooses: \", name)\n",
    "    player_choice = name_to_number(name)\n",
    "    comp_number = random.randrange(5)\n",
    "    number=comp_number\n",
    "    print(\"Computer chooses: \", number_to_name(number))\n",
    "    if player_choice - comp_number % 5 == 1:\n",
    "        print(\"Player wins!\")\n",
    "    elif player_choice - comp_number % 5 == 2:\n",
    "        print(\"Player wins!\") \n",
    "    elif player_choice - comp_number % 5 == 3:\n",
    "        print(\"Computer wins!\")     \n",
    "    elif player_choice - comp_number % 5 == 4:\n",
    "        print(\"Computer wins!\")      \n",
    "    elif comp_number - player_choice  % 5 == 1:\n",
    "        print(\"Computer wins!\")\n",
    "    elif comp_number - player_choice  % 5 == 2:\n",
    "        print(\"Computer wins!\")\n",
    "    elif comp_number - player_choice  % 5 == 3:\n",
    "        print(\"Player wins!\")    \n",
    "    elif comp_number - player_choice  % 5 == 4:\n",
    "        print(\"Player wins!\")\n",
    "    else:\n",
    "        print(\"Player and computer tie!\")\n",
    "rpsls('Spock')   \n",
    "rpsls('lizard')  \n",
    "rpsls('rock')   \n",
    "rpsls('scissors')  \n",
    "rpsls('paper')   \n",
    " "
   ]
  }
 ],
 "metadata": {
  "kernelspec": {
   "display_name": "Python 3",
   "language": "python",
   "name": "python3"
  },
  "language_info": {
   "codemirror_mode": {
    "name": "ipython",
    "version": 3
   },
   "file_extension": ".py",
   "mimetype": "text/x-python",
   "name": "python",
   "nbconvert_exporter": "python",
   "pygments_lexer": "ipython3",
   "version": "3.8.5"
  }
 },
 "nbformat": 4,
 "nbformat_minor": 4
}
